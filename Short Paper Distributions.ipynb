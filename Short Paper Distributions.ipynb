{
 "cells": [
  {
   "cell_type": "code",
   "execution_count": 1,
   "metadata": {},
   "outputs": [],
   "source": [
    "import pandas as pd\n",
    "import numpy as np\n",
    "from matplotlib import pyplot as plt"
   ]
  },
  {
   "cell_type": "markdown",
   "metadata": {},
   "source": [
    "# Figure 1"
   ]
  },
  {
   "cell_type": "code",
   "execution_count": 13,
   "metadata": {},
   "outputs": [
    {
     "data": {
      "image/png": "[encoded data removed]",
      "text/plain": [
       "<Figure size 400x400 with 1 Axes>"
      ]
     },
     "metadata": {},
     "output_type": "display_data"
    }
   ],
   "source": [
    "num_points = 1000\n",
    "xmin = 1  # Minimum value\n",
    "alpha = 2.5  # Exponent\n",
    "\n",
    "x = np.random.poisson(10000,1000)\n",
    "\n",
    "# Plotting\n",
    "plt.figure(figsize=(4,4))\n",
    "plt.hist(x, bins=50, density=True, alpha=0.7, color='b')\n",
    "\n",
    "# Plotting the theoretical power law curve\n",
    "plt.title('Ideal Poisson Distribution (Non-Oligopoly)')\n",
    "plt.xlabel('Out-Degree')\n",
    "plt.ylabel('Number of Countries')\n",
    "plt.grid(True, which=\"both\")\n",
    "\n",
    "plt.xticks([])\n",
    "plt.yticks([])\n",
    "\n",
    "plt.show()"
   ]
  },
  {
   "cell_type": "code",
   "execution_count": null,
   "metadata": {},
   "outputs": [
    {
     "ename": "",
     "evalue": "",
     "output_type": "error",
     "traceback": [
      "\u001b[1;31mRunning cells with 'c:\\Python311\\python.exe' requires the ipykernel package.\n",
      "\u001b[1;31mRun the following command to install 'ipykernel' into the Python environment. \n",
      "\u001b[1;31mCommand: 'c:/Python311/python.exe -m pip install ipykernel -U --user --force-reinstall'"
     ]
    }
   ],
   "source": [
    "num_points = 1000\n",
    "xmin = 1  # Minimum value\n",
    "alpha = 10  # Exponent\n",
    "\n",
    "x = np.random.pareto(alpha, num_points) + xmin\n",
    "\n",
    "# Plotting\n",
    "plt.figure(figsize=(4,4))\n",
    "plt.hist(x, bins=50, density=True, alpha=0.7, color='b')\n",
    "\n",
    "# Plotting the theoretical power law curve\n",
    "plt.title('Ideal Power Law Distribution (Oligopoly)')\n",
    "plt.xlabel('Out-Degree')\n",
    "plt.ylabel('Number of Countries')\n",
    "plt.grid(True, which=\"both\")\n",
    "\n",
    "plt.xticks([])\n",
    "plt.yticks([])\n",
    "\n",
    "plt.show()"
   ]
  },
  {
   "cell_type": "markdown",
   "metadata": {},
   "source": [
    "# Figure 2"
   ]
  },
  {
   "cell_type": "code",
   "execution_count": null,
   "metadata": {},
   "outputs": [
    {
     "ename": "",
     "evalue": "",
     "output_type": "error",
     "traceback": [
      "\u001b[1;31mRunning cells with 'c:\\Python311\\python.exe' requires the ipykernel package.\n",
      "\u001b[1;31mRun the following command to install 'ipykernel' into the Python environment. \n",
      "\u001b[1;31mCommand: 'c:/Python311/python.exe -m pip install ipykernel -U --user --force-reinstall'"
     ]
    }
   ],
   "source": [
    "num_points = 1000\n",
    "xmin = 1  # Minimum value\n",
    "alpha = 2.5  # Exponent\n",
    "\n",
    "x = np.random.normal(10, 1,10000)\n",
    "\n",
    "# Plotting\n",
    "plt.figure(figsize=(4,4))\n",
    "plt.hist(x, bins=50, density=True, alpha=0.7, color='b')\n",
    "\n",
    "# Plotting the theoretical power law curve\n",
    "plt.title('Ideal Non-O')\n",
    "plt.xlabel('Out-Degree/In-Degree')\n",
    "plt.ylabel('Number of Countries')\n",
    "plt.grid(True, which=\"both\")\n",
    "\n",
    "plt.xticks([])\n",
    "plt.yticks([])\n",
    "\n",
    "plt.show()"
   ]
  },
  {
   "cell_type": "code",
   "execution_count": null,
   "metadata": {},
   "outputs": [
    {
     "ename": "",
     "evalue": "",
     "output_type": "error",
     "traceback": [
      "\u001b[1;31mRunning cells with 'c:\\Python311\\python.exe' requires the ipykernel package.\n",
      "\u001b[1;31mRun the following command to install 'ipykernel' into the Python environment. \n",
      "\u001b[1;31mCommand: 'c:/Python311/python.exe -m pip install ipykernel -U --user --force-reinstall'"
     ]
    }
   ],
   "source": [
    "num_points = 1000\n",
    "xmin = 1  # Minimum value\n",
    "alpha = 2.5  # Exponent\n",
    "\n",
    "x = np.random.normal(10, 1,10000)\n",
    "\n",
    "# Plotting\n",
    "plt.figure(figsize=(4,4))\n",
    "histogram = plt.hist(x, bins=50, density=True, alpha=0.7, color='b')\n",
    "print(histogram)\n",
    "\n",
    "# Plotting the theoretical power law curve\n",
    "plt.title('Ideal Normal Distribution (Non-Oligopoly)')\n",
    "plt.xlabel('Out-Degree/In-Degree')\n",
    "plt.ylabel('Number of Countries')\n",
    "plt.grid(True, which=\"both\")\n",
    "\n",
    "plt.xticks([])\n",
    "plt.yticks([])\n",
    "\n",
    "plt.show()"
   ]
  }
 ],
 "metadata": {
  "kernelspec": {
   "display_name": "ir_scraper",
   "language": "python",
   "name": "python3"
  },
  "language_info": {
   "codemirror_mode": {
    "name": "ipython",
    "version": 3
   },
   "file_extension": ".py",
   "mimetype": "text/x-python",
   "name": "python",
   "nbconvert_exporter": "python",
   "pygments_lexer": "ipython3",
   "version": "3.11.7"
  }
 },
 "nbformat": 4,
 "nbformat_minor": 2
}
