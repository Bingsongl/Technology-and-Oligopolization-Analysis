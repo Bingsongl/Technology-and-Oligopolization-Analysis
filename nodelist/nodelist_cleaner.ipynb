{
 "cells": [
  {
   "cell_type": "code",
   "execution_count": 62,
   "metadata": {},
   "outputs": [],
   "source": [
    "import pandas as pd\n",
    "import numpy as np\n",
    "from matplotlib import pyplot as plt\n",
    "import json"
   ]
  },
  {
   "cell_type": "code",
   "execution_count": 63,
   "metadata": {},
   "outputs": [],
   "source": [
    "df = pd.read_csv('SIPRI-Milex-Current-Dollars.csv',index_col='Country')\n",
    "df = df.drop(columns='Notes')\n",
    "df = df.dropna()\n",
    "df = df[~df.index.str.contains('\\*')] #dropping nonstate actors"
   ]
  },
  {
   "cell_type": "code",
   "execution_count": 64,
   "metadata": {},
   "outputs": [
    {
     "data": {
      "text/plain": [
       "array(['...', '0', '0.1', ..., '9993.7', '9998.2', 'xxx'], dtype=object)"
      ]
     },
     "execution_count": 64,
     "metadata": {},
     "output_type": "execute_result"
    }
   ],
   "source": [
    "np.unique(df.values)"
   ]
  },
  {
   "cell_type": "code",
   "execution_count": 65,
   "metadata": {},
   "outputs": [
    {
     "data": {
      "text/html": [
       "<div>\n",
       "<style scoped>\n",
       "    .dataframe tbody tr th:only-of-type {\n",
       "        vertical-align: middle;\n",
       "    }\n",
       "\n",
       "    .dataframe tbody tr th {\n",
       "        vertical-align: top;\n",
       "    }\n",
       "\n",
       "    .dataframe thead th {\n",
       "        text-align: right;\n",
       "    }\n",
       "</style>\n",
       "<table border=\"1\" class=\"dataframe\">\n",
       "  <thead>\n",
       "    <tr style=\"text-align: right;\">\n",
       "      <th>Country</th>\n",
       "      <th>Algeria</th>\n",
       "      <th>Libya</th>\n",
       "      <th>Morocco</th>\n",
       "      <th>Tunisia</th>\n",
       "      <th>Angola</th>\n",
       "      <th>Benin</th>\n",
       "      <th>Botswana</th>\n",
       "      <th>Burkina Faso</th>\n",
       "      <th>Burundi</th>\n",
       "      <th>Cameroon</th>\n",
       "      <th>...</th>\n",
       "      <th>Kuwait</th>\n",
       "      <th>Lebanon</th>\n",
       "      <th>Oman</th>\n",
       "      <th>Qatar</th>\n",
       "      <th>Saudi Arabia</th>\n",
       "      <th>Syria</th>\n",
       "      <th>Türkiye</th>\n",
       "      <th>United Arab Emirates</th>\n",
       "      <th>Yemen, North</th>\n",
       "      <th>Yemen</th>\n",
       "    </tr>\n",
       "  </thead>\n",
       "  <tbody>\n",
       "    <tr>\n",
       "      <th>1949</th>\n",
       "      <td>NaN</td>\n",
       "      <td>NaN</td>\n",
       "      <td>NaN</td>\n",
       "      <td>NaN</td>\n",
       "      <td>NaN</td>\n",
       "      <td>NaN</td>\n",
       "      <td>NaN</td>\n",
       "      <td>NaN</td>\n",
       "      <td>NaN</td>\n",
       "      <td>NaN</td>\n",
       "      <td>...</td>\n",
       "      <td>NaN</td>\n",
       "      <td>NaN</td>\n",
       "      <td>NaN</td>\n",
       "      <td>NaN</td>\n",
       "      <td>NaN</td>\n",
       "      <td>NaN</td>\n",
       "      <td>197.7</td>\n",
       "      <td>NaN</td>\n",
       "      <td>NaN</td>\n",
       "      <td>NaN</td>\n",
       "    </tr>\n",
       "    <tr>\n",
       "      <th>1950</th>\n",
       "      <td>NaN</td>\n",
       "      <td>NaN</td>\n",
       "      <td>NaN</td>\n",
       "      <td>NaN</td>\n",
       "      <td>NaN</td>\n",
       "      <td>NaN</td>\n",
       "      <td>NaN</td>\n",
       "      <td>NaN</td>\n",
       "      <td>NaN</td>\n",
       "      <td>NaN</td>\n",
       "      <td>...</td>\n",
       "      <td>NaN</td>\n",
       "      <td>NaN</td>\n",
       "      <td>NaN</td>\n",
       "      <td>NaN</td>\n",
       "      <td>NaN</td>\n",
       "      <td>NaN</td>\n",
       "      <td>213</td>\n",
       "      <td>NaN</td>\n",
       "      <td>NaN</td>\n",
       "      <td>NaN</td>\n",
       "    </tr>\n",
       "    <tr>\n",
       "      <th>1951</th>\n",
       "      <td>NaN</td>\n",
       "      <td>NaN</td>\n",
       "      <td>NaN</td>\n",
       "      <td>NaN</td>\n",
       "      <td>NaN</td>\n",
       "      <td>NaN</td>\n",
       "      <td>NaN</td>\n",
       "      <td>NaN</td>\n",
       "      <td>NaN</td>\n",
       "      <td>NaN</td>\n",
       "      <td>...</td>\n",
       "      <td>NaN</td>\n",
       "      <td>NaN</td>\n",
       "      <td>NaN</td>\n",
       "      <td>NaN</td>\n",
       "      <td>NaN</td>\n",
       "      <td>NaN</td>\n",
       "      <td>231.8</td>\n",
       "      <td>NaN</td>\n",
       "      <td>NaN</td>\n",
       "      <td>NaN</td>\n",
       "    </tr>\n",
       "    <tr>\n",
       "      <th>1952</th>\n",
       "      <td>NaN</td>\n",
       "      <td>NaN</td>\n",
       "      <td>NaN</td>\n",
       "      <td>NaN</td>\n",
       "      <td>NaN</td>\n",
       "      <td>NaN</td>\n",
       "      <td>NaN</td>\n",
       "      <td>NaN</td>\n",
       "      <td>NaN</td>\n",
       "      <td>NaN</td>\n",
       "      <td>...</td>\n",
       "      <td>NaN</td>\n",
       "      <td>NaN</td>\n",
       "      <td>NaN</td>\n",
       "      <td>NaN</td>\n",
       "      <td>NaN</td>\n",
       "      <td>NaN</td>\n",
       "      <td>257.8</td>\n",
       "      <td>NaN</td>\n",
       "      <td>NaN</td>\n",
       "      <td>NaN</td>\n",
       "    </tr>\n",
       "    <tr>\n",
       "      <th>1953</th>\n",
       "      <td>NaN</td>\n",
       "      <td>NaN</td>\n",
       "      <td>NaN</td>\n",
       "      <td>NaN</td>\n",
       "      <td>NaN</td>\n",
       "      <td>NaN</td>\n",
       "      <td>NaN</td>\n",
       "      <td>NaN</td>\n",
       "      <td>NaN</td>\n",
       "      <td>NaN</td>\n",
       "      <td>...</td>\n",
       "      <td>NaN</td>\n",
       "      <td>NaN</td>\n",
       "      <td>NaN</td>\n",
       "      <td>NaN</td>\n",
       "      <td>NaN</td>\n",
       "      <td>NaN</td>\n",
       "      <td>294</td>\n",
       "      <td>NaN</td>\n",
       "      <td>NaN</td>\n",
       "      <td>NaN</td>\n",
       "    </tr>\n",
       "  </tbody>\n",
       "</table>\n",
       "<p>5 rows × 174 columns</p>\n",
       "</div>"
      ],
      "text/plain": [
       "Country Algeria Libya Morocco Tunisia Angola Benin Botswana Burkina Faso  \\\n",
       "1949        NaN   NaN     NaN     NaN    NaN   NaN      NaN          NaN   \n",
       "1950        NaN   NaN     NaN     NaN    NaN   NaN      NaN          NaN   \n",
       "1951        NaN   NaN     NaN     NaN    NaN   NaN      NaN          NaN   \n",
       "1952        NaN   NaN     NaN     NaN    NaN   NaN      NaN          NaN   \n",
       "1953        NaN   NaN     NaN     NaN    NaN   NaN      NaN          NaN   \n",
       "\n",
       "Country Burundi Cameroon  ... Kuwait Lebanon Oman Qatar Saudi Arabia Syria  \\\n",
       "1949        NaN      NaN  ...    NaN     NaN  NaN   NaN          NaN   NaN   \n",
       "1950        NaN      NaN  ...    NaN     NaN  NaN   NaN          NaN   NaN   \n",
       "1951        NaN      NaN  ...    NaN     NaN  NaN   NaN          NaN   NaN   \n",
       "1952        NaN      NaN  ...    NaN     NaN  NaN   NaN          NaN   NaN   \n",
       "1953        NaN      NaN  ...    NaN     NaN  NaN   NaN          NaN   NaN   \n",
       "\n",
       "Country Türkiye United Arab Emirates Yemen, North Yemen  \n",
       "1949      197.7                  NaN          NaN   NaN  \n",
       "1950        213                  NaN          NaN   NaN  \n",
       "1951      231.8                  NaN          NaN   NaN  \n",
       "1952      257.8                  NaN          NaN   NaN  \n",
       "1953        294                  NaN          NaN   NaN  \n",
       "\n",
       "[5 rows x 174 columns]"
      ]
     },
     "execution_count": 65,
     "metadata": {},
     "output_type": "execute_result"
    }
   ],
   "source": [
    "df = df.transpose()\n",
    "df = df.replace('\\.\\.\\.|xxx',np.NaN,regex=True)\n",
    "df.head()"
   ]
  },
  {
   "cell_type": "code",
   "execution_count": 66,
   "metadata": {},
   "outputs": [
    {
     "data": {
      "image/png": "[encoded data removed]",
      "text/plain": [
       "<Figure size 640x480 with 1 Axes>"
      ]
     },
     "metadata": {},
     "output_type": "display_data"
    }
   ],
   "source": [
    "yearly_total_countries = df.notna().sum(axis=1)\n",
    "yearly_total_countries.plot()\n",
    "plt.xlabel('Year')\n",
    "plt.ylabel('Countries in Existence')\n",
    "plt.title('Number of Countries that Existed (With Recorded Defense Budgets) Over Time')\n",
    "plt.axvline(x= 52, linestyle='--',label='2001:9/11 Attacks')\n",
    "\n",
    "plt.grid()\n",
    "plt.legend()\n",
    "plt.show()"
   ]
  },
  {
   "cell_type": "markdown",
   "metadata": {},
   "source": [
    "## Constructing nodelist"
   ]
  },
  {
   "cell_type": "code",
   "execution_count": 67,
   "metadata": {},
   "outputs": [
    {
     "data": {
      "text/plain": [
       "Country\n",
       "Algeria          151711.2\n",
       "Morocco           69976.0\n",
       "Tunisia           16003.7\n",
       "Angola            54882.7\n",
       "Botswana           8224.4\n",
       "                  ...    \n",
       "Kuwait           116844.9\n",
       "Lebanon           39797.0\n",
       "Oman             112678.6\n",
       "Saudi Arabia    1111174.4\n",
       "Türkiye          333878.4\n",
       "Length: 126, dtype: float64"
      ]
     },
     "execution_count": 67,
     "metadata": {},
     "output_type": "execute_result"
    }
   ],
   "source": [
    "nodelist = df.iloc[52:]\n",
    "nodelist = nodelist.dropna(axis=1)\n",
    "nodelist = nodelist.astype('float')\n",
    "nodelist = nodelist.sum(axis=0)\n",
    "nodelist"
   ]
  },
  {
   "cell_type": "code",
   "execution_count": 68,
   "metadata": {},
   "outputs": [],
   "source": [
    "#CLEANUP to JSON FILE\n",
    "arms_transfer_nodes = [\"Afghanistan\", \"African Union**\", \"Albania\", \"Algeria\", \"Angola\", \"Argentina\", \"Armenia\", \"Australia\", \"Austria\", \"Azerbaijan\", \"Bahamas\", \"Bahrain\", \"Bangladesh\", \"Barbados\", \"Belarus\", \"Belgium\", \"Belize\", \"Benin\", \"Bhutan\", \"Bolivia\", \"Bosnia-Herzegovina\", \"Botswana\", \"Brazil\", \"Brunei\", \"Bulgaria\", \"Burkina Faso\", \"Burundi\", \"Cabo Verde\", \"Cambodia\", \"Cameroon\", \"Canada\", \"Central African Republic\", \"Chad\", \"Chile\", \"China\", \"Colombia\", \"Comoros\", \"Congo\", \"Costa Rica\", \"Cote d'Ivoire\", \"Croatia\", \"Cuba\", \"Cyprus\", \"Czechia\", \"DR Congo\", \"Darfur rebels (Sudan)*\", \"Denmark\", \"Djibouti\", \"Dominican Republic\", \"Ecuador\", \"Egypt\", \"El Salvador\", \"Equatorial Guinea\", \"Eritrea\", \"Estonia\", \"Ethiopia\", \"Fiji\", \"Finland\", \"France\", \"Gabon\", \"Gambia\", \"Georgia\", \"Germany\", \"Ghana\", \"Greece\", \"Guatemala\", \"Guinea\", \"Guyana\", \"Hamas (Palestine)*\", \"Hezbollah (Lebanon)*\", \"Honduras\", \"Houthi rebels (Yemen)*\", \"Hungary\", \"Iceland\", \"India\", \"Indonesia\", \"Iran\", \"Iraq\", \"Ireland\", \"Israel\", \"Italy\", \"Jamaica\", \"Japan\", \"Jordan\", \"Kazakhstan\", \"Kenya\", \"Kiribati\", \"Kosovo\", \"Kuwait\", \"Kyrgyzstan\", \"LRA (Uganda)*\", \"LTTE (Sri Lanka)*\", \"Laos\", \"Latvia\", \"Lebanon\", \"Lesotho\", \"Liberia\", \"Libya\", \"Libya GNC\", \"Libya HoR\", \"Lithuania\", \"Luxembourg\", \"Madagascar\", \"Malawi\", \"Malaysia\", \"Maldives\", \"Mali\", \"Malta\", \"Marshall Islands\", \"Mauritania\", \"Mauritius\", \"Mexico\", \"Micronesia\", \"Mongolia\", \"Montenegro\", \"Morocco\", \"Mozambique\", \"Myanmar\", \"NATO**\", \"NLA (Macedonia)*\", \"NTC (Libya)*\", \"Namibia\", \"Nepal\", \"Netherlands\", \"New Zealand\", \"Nicaragua\", \"Niger\", \"Nigeria\", \"North Korea\", \"North Macedonia\", \"Northern Alliance (Afghanistan)*\", \"Norway\", \"OSCE**\", \"Oman\", \"PIJ (Israel/Palestine)*\", \"PKK (Turkey)*\", \"PRC (Israel/Palestine)*\", \"Pakistan\", \"Palau\", \"Palestine\", \"Panama\", \"Papua New Guinea\", \"Paraguay\", \"Peru\", \"Philippines\", \"Poland\", \"Portugal\", \"Qatar\", \"RUF (Sierra Leone)*\", \"Regional Security System**\", \"Romania\", \"Russia\", \"Rwanda\", \"Samoa\", \"Saudi Arabia\", \"Senegal\", \"Serbia\", \"Seychelles\", \"Sierra Leone\", \"Singapore\", \"Slovakia\", \"Slovenia\", \"Solomon Islands\", \"Somalia\", \"South Africa\", \"South Korea\", \"South Sudan\", \"Spain\", \"Sri Lanka\", \"Sudan\", \"Suriname\", \"Sweden\", \"Switzerland\", \"Syria\", \"Syria rebels*\", \"Taiwan\", \"Tajikistan\", \"Tanzania\", \"Thailand\", \"Timor-Leste\", \"Togo\", \"Tonga\", \"Trinidad and Tobago\", \"Tunisia\", \"Turkey\", \"Turkmenistan\", \"Tuvalu\", \"UAE\", \"UIC (Somalia)*\", \"Uganda\", \"Ukraine\", \"Ukraine Rebels*\", \"United Kingdom\", \"United Nations**\", \"United States\", \"United Wa State (Myanmar)*\", \"Unknown rebel group*\", \"Unknown recipient(s)\", \"Uruguay\", \"Uzbekistan\", \"Vanuatu\", \"Venezuela\", \"Viet Nam\", \"Western Sahara\", \"Yemen\", \"Zambia\", \"Zimbabwe\", \"eSwatini\"]"
   ]
  },
  {
   "cell_type": "code",
   "execution_count": 69,
   "metadata": {},
   "outputs": [],
   "source": [
    "anomolies = [country for country in nodelist if country not in arms_transfer_nodes]\n",
    "#the following countries are in the nodelist but not represented in the edges. They may be misnamed"
   ]
  },
  {
   "cell_type": "code",
   "execution_count": 70,
   "metadata": {},
   "outputs": [],
   "source": [
    "nodelist_replacements = {'Korea,South':'South Korea','Kyrgyz Republic':'Kyrgyzstan','United States of America':'United States','Türkiye':'Turkey'}\n",
    "\n",
    "nodelist = nodelist.to_dict()\n",
    "nodelist = {nodelist_replacements.get(node,node): np.round(nodelist[node],3) for node in nodelist}"
   ]
  },
  {
   "cell_type": "code",
   "execution_count": 71,
   "metadata": {},
   "outputs": [
    {
     "name": "stdout",
     "output_type": "stream",
     "text": [
      "{'Algeria': 151711.2, 'Morocco': 69976.0, 'Tunisia': 16003.7, 'Angola': 54882.7, 'Botswana': 8224.4, 'Burkina Faso': 4003.5, 'Cameroon': 7251.2, 'Cape Verde': 191.8, 'Ethiopia': 9289.0, 'Ghana': 3639.4, 'Kenya': 15516.1, 'Lesotho': 907.2, 'Madagascar': 1572.6, 'Malawi': 1065.0, 'Mali': 5498.4, 'Mauritius': 361.8, 'Mozambique': 2954.6, 'Namibia': 7253.6, 'Nigeria': 39163.3, 'Rwanda': 1958.3, 'Senegal': 5173.7, 'Seychelles': 378.5, 'Sierra Leone': 647.5, 'South Africa': 74901.3, 'Eswatini': 1560.2, 'Tanzania': 8422.6, 'Uganda': 9114.9, 'Belize': 376.9, 'Costa Rica': 0.0, 'Dominican Republic': 8886.9, 'El Salvador': 4973.8, 'Guatemala': 4959.4, 'Haiti': 117.1, 'Honduras': 5161.4, 'Jamaica': 2860.3, 'Mexico': 114302.8, 'Nicaragua': 1318.6, 'Panama': 0.0, 'Trinidad and Tobago': 3156.2, 'Canada': 397645.5, 'United States': 14028958.2, 'Argentina': 71870.1, 'Bolivia': 8866.1, 'Brazil': 500987.5, 'Chile': 97127.0, 'Colombia': 183628.3, 'Ecuador': 41503.3, 'Guyana': 889.0, 'Paraguay': 5485.5, 'Peru': 46737.5, 'Uruguay': 17576.9, 'Venezuela': 49663.8, 'Australia': 469166.6, 'Fiji': 1268.3, 'New Zealand': 40156.0, 'Papua New Guinea': 1428.1, 'Bangladesh': 49119.0, 'India': 995053.2, 'Nepal': 5960.4, 'Pakistan': 161835.0, 'Sri Lanka': 29315.1, 'China': 3096078.7, 'Japan': 1044780.1, 'Korea, South': 692568.9, 'Mongolia': 1614.9, 'Taiwan': 210777.0, 'Brunei': 7893.1, 'Cambodia': 5983.7, 'Indonesia': 120455.0, 'Malaysia': 81127.2, 'Philippines': 61849.0, 'Singapore': 179518.9, 'Thailand': 103804.6, 'Kazakhstan': 27432.5, 'Kyrgyzstan': 1926.4, 'Albania': 3586.2, 'Bulgaria': 19236.9, 'Croatia': 21213.7, 'Czechia': 53830.0, 'Estonia': 9366.1, 'Hungary': 35950.7, 'Latvia': 9096.7, 'Lithuania': 12937.0, 'North Macedonia': 3117.4, 'Poland': 199675.7, 'Romania': 61953.9, 'Serbia': 19596.8, 'Slovakia': 25236.8, 'Slovenia': 12418.7, 'Armenia': 8274.7, 'Azerbaijan': 37608.1, 'Belarus': 14311.1, 'Georgia': 8216.3, 'Moldova': 569.2, 'Russia': 1203522.2, 'Ukraine': 107101.7, 'Austria': 68080.1, 'Belgium': 107221.5, 'Cyprus': 8826.3, 'Denmark': 89777.7, 'Finland': 75767.4, 'France': 1062643.0, 'Germany': 920570.4, 'Greece': 145431.3, 'Iceland': 0.0, 'Ireland': 25292.8, 'Italy': 644881.9, 'Luxembourg': 5910.7, 'Malta': 1250.4, 'Netherlands': 233339.0, 'Norway': 138176.6, 'Portugal': 68239.2, 'Spain': 374586.4, 'Sweden': 128900.9, 'Switzerland': 96468.4, 'United Kingdom': 1331520.1, 'Bahrain': 22757.0, 'Egypt': 84014.8, 'Iran': 205245.5, 'Israel': 330029.8, 'Jordan': 31002.8, 'Kuwait': 116844.9, 'Lebanon': 39797.0, 'Oman': 112678.6, 'Saudi Arabia': 1111174.4, 'Turkey': 333878.4}\n"
     ]
    }
   ],
   "source": [
    "print(nodelist)"
   ]
  },
  {
   "cell_type": "code",
   "execution_count": 74,
   "metadata": {},
   "outputs": [],
   "source": [
    "with open('nodelist_2001.json', \"w\") as json_file:\n",
    "    json.dump(nodelist, json_file)"
   ]
  }
 ],
 "metadata": {
  "kernelspec": {
   "display_name": "ir_scraper",
   "language": "python",
   "name": "python3"
  },
  "language_info": {
   "codemirror_mode": {
    "name": "ipython",
    "version": 3
   },
   "file_extension": ".py",
   "mimetype": "text/x-python",
   "name": "python",
   "nbconvert_exporter": "python",
   "pygments_lexer": "ipython3",
   "version": "3.11.8"
  }
 },
 "nbformat": 4,
 "nbformat_minor": 2
}
