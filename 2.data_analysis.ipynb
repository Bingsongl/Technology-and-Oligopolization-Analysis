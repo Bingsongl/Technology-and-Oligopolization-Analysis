{
 "cells": [
  {
   "cell_type": "code",
   "execution_count": 2,
   "metadata": {},
   "outputs": [],
   "source": [
    "import numpy as np\n",
    "import pandas as pd\n",
    "from matplotlib import pyplot as plt\n",
    "import networkx as nx\n",
    "import json\n",
    "import powerlaw"
   ]
  },
  {
   "cell_type": "markdown",
   "metadata": {},
   "source": [
    "# Importing and Cleaning data"
   ]
  },
  {
   "cell_type": "code",
   "execution_count": 3,
   "metadata": {},
   "outputs": [],
   "source": [
    "def cleanDf(df):\n",
    "    # Dropping NaNs\n",
    "    df.columns = ['Recipient', 'Supplier','Year of order', 'Year of order estimate','Number ordered', \n",
    "                  'Number ordered estimate', 'Weapon designation', 'Weapon description', 'Number delivered',\n",
    "                    'Number delivered estimate', 'Year(s) of delivery', 'status', 'Comments', 'SIPRI TIV per unit',\n",
    "                      'SIPRI TIV for total order', 'SIPRI TIV of delivered weapons']\n",
    "    \n",
    "    df['Year of order estimate'] = df['Year of order estimate'].notna()\n",
    "    df['Number ordered estimate'] = df['Number ordered estimate'].notna()\n",
    "    df['Number delivered estimate'] = df['Number delivered estimate'].notna()\n",
    "\n",
    "\n",
    "    df = df.dropna(subset=['Number ordered','Number delivered','Year of order'])\n",
    "    df['Number ordered'] = df['Number ordered'].astype('int')\n",
    "    df['Number delivered'] = df['Number delivered'].astype('int')\n",
    "    df['Year of order'] = df['Year of order'].astype('int')\n",
    "    #df['Delivery start'] = df['Year(s) of delivery'].str.split(';').min()\n",
    "    #df['Delivery end'] = df['Year(s) of delivery'].str.split(';').max()\n",
    "\n",
    "\n",
    "    #Removing nonstate actors\n",
    "    df = df[~df['Recipient'].str.contains('\\*') & ~df['Supplier'].str.contains('\\*')]\n",
    "\n",
    "    #RESTRICT FOR YEARS [subject to change]\n",
    "    df = df[df['Year of order'] >2001]\n",
    "\n",
    "    #RESTRICT FOR NEW OR MODERNIZED\n",
    "    df = df[df['status'] == 'New']\n",
    "\n",
    "    return df"
   ]
  },
  {
   "cell_type": "code",
   "execution_count": 4,
   "metadata": {},
   "outputs": [],
   "source": [
    "aircraft_df = cleanDf(pd.read_csv(\"data/aircraft.csv\",encoding='Latin1'))\n",
    "armoured_vehicle_df = cleanDf(pd.read_csv(\"data/armoured_vehicle.csv\",encoding='Latin1'))"
   ]
  },
  {
   "cell_type": "code",
   "execution_count": 23,
   "metadata": {},
   "outputs": [
    {
     "data": {
      "text/html": [
       "<div>\n",
       "<style scoped>\n",
       "    .dataframe tbody tr th:only-of-type {\n",
       "        vertical-align: middle;\n",
       "    }\n",
       "\n",
       "    .dataframe tbody tr th {\n",
       "        vertical-align: top;\n",
       "    }\n",
       "\n",
       "    .dataframe thead th {\n",
       "        text-align: right;\n",
       "    }\n",
       "</style>\n",
       "<table border=\"1\" class=\"dataframe\">\n",
       "  <thead>\n",
       "    <tr style=\"text-align: right;\">\n",
       "      <th></th>\n",
       "      <th>Recipient</th>\n",
       "      <th>Supplier</th>\n",
       "      <th>Year of order</th>\n",
       "      <th>Year of order estimate</th>\n",
       "      <th>Number ordered</th>\n",
       "      <th>Number ordered estimate</th>\n",
       "      <th>Weapon designation</th>\n",
       "      <th>Weapon description</th>\n",
       "      <th>Number delivered</th>\n",
       "      <th>Number delivered estimate</th>\n",
       "      <th>Year(s) of delivery</th>\n",
       "      <th>status</th>\n",
       "      <th>Comments</th>\n",
       "      <th>SIPRI TIV per unit</th>\n",
       "      <th>SIPRI TIV for total order</th>\n",
       "      <th>SIPRI TIV of delivered weapons</th>\n",
       "    </tr>\n",
       "  </thead>\n",
       "  <tbody>\n",
       "    <tr>\n",
       "      <th>1</th>\n",
       "      <td>Afghanistan</td>\n",
       "      <td>Brazil</td>\n",
       "      <td>2013</td>\n",
       "      <td>False</td>\n",
       "      <td>20</td>\n",
       "      <td>False</td>\n",
       "      <td>EMB-314 Super Tucano</td>\n",
       "      <td>trainer/combat aircraft</td>\n",
       "      <td>20</td>\n",
       "      <td>True</td>\n",
       "      <td>2016</td>\n",
       "      <td>New</td>\n",
       "      <td>$427 m 'LAS' deal (financed by USA); A-29B ver...</td>\n",
       "      <td>4.5</td>\n",
       "      <td>90.0</td>\n",
       "      <td>90.0</td>\n",
       "    </tr>\n",
       "  </tbody>\n",
       "</table>\n",
       "</div>"
      ],
      "text/plain": [
       "     Recipient Supplier  Year of order  Year of order estimate  \\\n",
       "1  Afghanistan   Brazil           2013                   False   \n",
       "\n",
       "   Number ordered  Number ordered estimate    Weapon designation  \\\n",
       "1              20                    False  EMB-314 Super Tucano   \n",
       "\n",
       "        Weapon description  Number delivered  Number delivered estimate  \\\n",
       "1  trainer/combat aircraft                20                       True   \n",
       "\n",
       "  Year(s) of delivery status  \\\n",
       "1                2016    New   \n",
       "\n",
       "                                            Comments  SIPRI TIV per unit  \\\n",
       "1  $427 m 'LAS' deal (financed by USA); A-29B ver...                 4.5   \n",
       "\n",
       "   SIPRI TIV for total order  SIPRI TIV of delivered weapons  \n",
       "1                       90.0                            90.0  "
      ]
     },
     "execution_count": 23,
     "metadata": {},
     "output_type": "execute_result"
    }
   ],
   "source": [
    "aircraft_df.head(1)"
   ]
  },
  {
   "cell_type": "markdown",
   "metadata": {},
   "source": [
    "# Creating Network From Edgelist\n"
   ]
  },
  {
   "cell_type": "code",
   "execution_count": 5,
   "metadata": {},
   "outputs": [],
   "source": [
    "def create_network(df:pd.DataFrame,nodelist:set) -> nx.digraph:\n",
    "    df = df[['Recipient','Supplier']]\n",
    "\n",
    "    df = df[df['Recipient'].isin(nodelist) & df['Supplier'].isin(nodelist)]\n",
    "    df = df.drop_duplicates()\n",
    "    \n",
    "    network =  nx.from_pandas_edgelist(df, 'Supplier', 'Recipient', create_using=nx.DiGraph())\n",
    "    network.add_nodes_from(nodelist)\n",
    "    return network"
   ]
  },
  {
   "cell_type": "code",
   "execution_count": 6,
   "metadata": {},
   "outputs": [],
   "source": [
    "with open('nodelist/nodelist_2001.json','r') as json_file:\n",
    "    nodelist_budgets = json.load(json_file)\n",
    "nodelist = set(nodelist_budgets.keys())"
   ]
  },
  {
   "cell_type": "code",
   "execution_count": 7,
   "metadata": {},
   "outputs": [],
   "source": [
    "aircraft_graph = create_network(aircraft_df, nodelist)\n",
    "vehicle_graph = create_network(armoured_vehicle_df,nodelist)"
   ]
  },
  {
   "cell_type": "markdown",
   "metadata": {},
   "source": [
    "## Examining in-degrees and out-degrees"
   ]
  },
  {
   "cell_type": "code",
   "execution_count": 8,
   "metadata": {},
   "outputs": [],
   "source": [
    "def powerlaw_test(data):\n",
    "\n",
    "    #CITE https://pypi.org/project/powerlaw/\n",
    "\n",
    "    results = powerlaw.Fit(data)\n",
    "    print(results.power_law.alpha)\n",
    "    print(results.power_law.xmin)\n",
    "    R, p = results.distribution_compare('power_law', 'lognormal')\n",
    "    print(p)\n",
    "\n",
    "    return results"
   ]
  },
  {
   "cell_type": "code",
   "execution_count": 20,
   "metadata": {},
   "outputs": [],
   "source": [
    "def plot_degree_distributions(net):\n",
    "    in_degrees = dict(net.in_degree())\n",
    "    out_degrees = dict(net.out_degree())\n",
    "\n",
    "    #filtering out zeros\n",
    "    in_degrees = [in_degrees[country] for country in in_degrees if in_degrees[country]>0]\n",
    "    out_degrees = [out_degrees[country] for country in out_degrees if out_degrees[country]>0]\n",
    "\n",
    "\n",
    "    plt.figure(figsize=(5, 5))\n",
    "    in_degree_hist = plt.hist(in_degrees, bins=range(0,max(in_degrees) + 2,1), alpha=0.5, color='blue', label='In-degree')\n",
    "    plt.xlabel('In-degree')\n",
    "    plt.ylabel('Frequency')\n",
    "    plt.title('Distribution of (nonzero) In-degrees')\n",
    "    plt.grid(True)\n",
    "\n",
    "    plt.yscale('log')\n",
    "    plt.xscale('log')\n",
    "\n",
    "\n",
    "    plt.legend()\n",
    "    plt.show()\n",
    "\n",
    "    plt.figure(figsize=(5, 5))\n",
    "    out_degree_hist = plt.hist(out_degrees, bins=range(0,max(out_degrees) + 6,5), alpha=0.5, color='red', label='Out-degree')\n",
    "    plt.xlabel('Out-degree')\n",
    "    plt.ylabel('Frequency')\n",
    "    plt.title('Distribution of (nonzero) Out-degrees')\n",
    "    plt.grid(True)\n",
    "\n",
    "    plt.yscale('log')\n",
    "    plt.xscale('log')\n",
    "    \n",
    "    plt.legend()\n",
    "    plt.show()\n",
    "\n",
    "    powerlaw_test(list(in_degrees))\n",
    "    powerlaw_test(list(out_degrees))\n",
    "\n",
    "\n",
    "    return in_degree_hist,out_degree_hist"
   ]
  },
  {
   "cell_type": "code",
   "execution_count": 21,
   "metadata": {},
   "outputs": [
    {
     "data": {
      "image/png": "[encoded data removed]",
      "text/plain": [
       "<Figure size 500x500 with 1 Axes>"
      ]
     },
     "metadata": {},
     "output_type": "display_data"
    },
    {
     "data": {
      "image/png": "[encoded data removed]",
      "text/plain": [
       "<Figure size 500x500 with 1 Axes>"
      ]
     },
     "metadata": {},
     "output_type": "display_data"
    },
    {
     "name": "stdout",
     "output_type": "stream",
     "text": [
      "Calculating best minimal value for power law fit\n",
      "6.588355065983542%\n",
      "7.0\n",
      "0.8901930511451704\n",
      "Calculating best minimal value for power law fit\n",
      "6.038763858859085%\n",
      "38.0\n",
      "0.2089443142204499\n"
     ]
    },
    {
     "name": "stderr",
     "output_type": "stream",
     "text": [
      "'nan' in fit cumulative distribution values.\n",
      "Likely underflow or overflow error: the optimal fit for this distribution gives values that are so extreme that we lack the numerical precision to calculate them.\n",
      "'nan' in fit cumulative distribution values.\n",
      "Likely underflow or overflow error: the optimal fit for this distribution gives values that are so extreme that we lack the numerical precision to calculate them.\n"
     ]
    },
    {
     "data": {
      "image/png": "[encoded data removed]",
      "text/plain": [
       "<Figure size 500x500 with 1 Axes>"
      ]
     },
     "metadata": {},
     "output_type": "display_data"
    },
    {
     "data": {
      "image/png": "[encoded data removed]",
      "text/plain": [
       "<Figure size 500x500 with 1 Axes>"
      ]
     },
     "metadata": {},
     "output_type": "display_data"
    },
    {
     "name": "stdout",
     "output_type": "stream",
     "text": [
      "Calculating best minimal value for power law fit\n",
      "14.662147297320562\n",
      "5.0\n",
      "0.2136826378412452\n",
      "Calculating best minimal value for power law fit\n",
      "2.508358233418085%\n",
      "8.0\n",
      "0.49412002601651583\n"
     ]
    },
    {
     "name": "stderr",
     "output_type": "stream",
     "text": [
      "'nan' in fit cumulative distribution values.\n",
      "Likely underflow or overflow error: the optimal fit for this distribution gives values that are so extreme that we lack the numerical precision to calculate them.\n"
     ]
    },
    {
     "data": {
      "text/plain": [
       "((array([ 0., 22., 31., 18., 16., 12.,  2.,  1.,  1.]),\n",
       "  array([0., 1., 2., 3., 4., 5., 6., 7., 8., 9.]),\n",
       "  <BarContainer object of 9 artists>),\n",
       " (array([20.,  5.,  4.,  2.,  1.,  2.,  1.,  0.,  1.]),\n",
       "  array([ 0.,  5., 10., 15., 20., 25., 30., 35., 40., 45.]),\n",
       "  <BarContainer object of 9 artists>))"
      ]
     },
     "execution_count": 21,
     "metadata": {},
     "output_type": "execute_result"
    }
   ],
   "source": [
    "plot_degree_distributions(aircraft_graph)\n",
    "plot_degree_distributions(vehicle_graph)"
   ]
  },
  {
   "cell_type": "markdown",
   "metadata": {},
   "source": [
    "## Power Law Goodness of Fit Test"
   ]
  },
  {
   "cell_type": "code",
   "execution_count": null,
   "metadata": {},
   "outputs": [],
   "source": []
  },
  {
   "cell_type": "markdown",
   "metadata": {},
   "source": [
    "## Rank-Correlation with GDP"
   ]
  },
  {
   "cell_type": "code",
   "execution_count": 11,
   "metadata": {},
   "outputs": [
    {
     "ename": "SyntaxError",
     "evalue": "incomplete input (402286391.py, line 1)",
     "output_type": "error",
     "traceback": [
      "\u001b[1;36m  Cell \u001b[1;32mIn[11], line 1\u001b[1;36m\u001b[0m\n\u001b[1;33m    def calculate_correlation():\u001b[0m\n\u001b[1;37m                                ^\u001b[0m\n\u001b[1;31mSyntaxError\u001b[0m\u001b[1;31m:\u001b[0m incomplete input\n"
     ]
    }
   ],
   "source": [
    "def calculate_correlation():\n"
   ]
  }
 ],
 "metadata": {
  "kernelspec": {
   "display_name": "ir_scraper",
   "language": "python",
   "name": "python3"
  },
  "language_info": {
   "codemirror_mode": {
    "name": "ipython",
    "version": 3
   },
   "file_extension": ".py",
   "mimetype": "text/x-python",
   "name": "python",
   "nbconvert_exporter": "python",
   "pygments_lexer": "ipython3",
   "version": "3.11.8"
  }
 },
 "nbformat": 4,
 "nbformat_minor": 2
}
